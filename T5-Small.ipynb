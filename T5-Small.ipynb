{
 "cells": [
  {
   "cell_type": "markdown",
   "source": [
    "## Loading & splitting the Dataset"
   ],
   "metadata": {
    "collapsed": false
   },
   "id": "f2bcfb4f68ef9547"
  },
  {
   "cell_type": "code",
   "outputs": [
    {
     "data": {
      "text/plain": "Generating train split: 0 examples [00:00, ? examples/s]",
      "application/vnd.jupyter.widget-view+json": {
       "version_major": 2,
       "version_minor": 0,
       "model_id": "19feae9e13d442c09a31ddc6b2ebc64c"
      }
     },
     "metadata": {},
     "output_type": "display_data"
    },
    {
     "data": {
      "text/plain": "DatasetDict({\n    train: Dataset({\n        features: ['input', 'output'],\n        num_rows: 2000\n    })\n})"
     },
     "execution_count": 1,
     "metadata": {},
     "output_type": "execute_result"
    }
   ],
   "source": [
    "from datasets import load_dataset\n",
    "\n",
    "dataset=load_dataset('json',data_files='smart_home_dataset.json')\n",
    "dataset"
   ],
   "metadata": {
    "collapsed": false,
    "ExecuteTime": {
     "end_time": "2025-04-08T12:22:21.385633Z",
     "start_time": "2025-04-08T12:22:19.259106Z"
    }
   },
   "id": "e04c968ff763b0d9",
   "execution_count": 1
  },
  {
   "cell_type": "code",
   "outputs": [],
   "source": [
    "split_1=dataset['train'].train_test_split(test_size=0.2,seed=42)\n",
    "split_2=split_1['test'].train_test_split(test_size=0.5,seed=42)\n",
    "\n",
    "dataset={\n",
    "    'train':split_1['train'],\n",
    "    'validation':split_2['train'],\n",
    "    'test':split_2['test']\n",
    "}"
   ],
   "metadata": {
    "collapsed": false,
    "ExecuteTime": {
     "end_time": "2025-04-08T12:22:24.693666Z",
     "start_time": "2025-04-08T12:22:24.639055Z"
    }
   },
   "id": "d9c8606192198eaf",
   "execution_count": 2
  },
  {
   "cell_type": "code",
   "outputs": [
    {
     "data": {
      "text/plain": "{'train': Dataset({\n     features: ['input', 'output'],\n     num_rows: 1600\n }),\n 'validation': Dataset({\n     features: ['input', 'output'],\n     num_rows: 200\n }),\n 'test': Dataset({\n     features: ['input', 'output'],\n     num_rows: 200\n })}"
     },
     "execution_count": 3,
     "metadata": {},
     "output_type": "execute_result"
    }
   ],
   "source": [
    "dataset"
   ],
   "metadata": {
    "collapsed": false,
    "ExecuteTime": {
     "end_time": "2025-04-08T12:22:25.433864Z",
     "start_time": "2025-04-08T12:22:25.429524Z"
    }
   },
   "id": "62d493fa480f0158",
   "execution_count": 3
  },
  {
   "cell_type": "code",
   "outputs": [
    {
     "data": {
      "text/plain": "{'input': ['Increase the thermostat in the kitchen to 100.',\n  'Decrease the alarm in the bedroom to 100.',\n  'Stop the fan in the garage.'],\n 'output': ['Increase(thermostat, 100)', 'Decrease(alarm, 100)', 'Stop(fan)']}"
     },
     "execution_count": 4,
     "metadata": {},
     "output_type": "execute_result"
    }
   ],
   "source": [
    "dataset['test'][:3]"
   ],
   "metadata": {
    "collapsed": false,
    "ExecuteTime": {
     "end_time": "2025-04-08T12:22:26.874780Z",
     "start_time": "2025-04-08T12:22:26.870884Z"
    }
   },
   "id": "5198a0ae1a633a8d",
   "execution_count": 4
  },
  {
   "cell_type": "markdown",
   "source": [
    "## Toknizing"
   ],
   "metadata": {
    "collapsed": false
   },
   "id": "723741aaa0d43109"
  },
  {
   "cell_type": "code",
   "outputs": [],
   "source": [
    "from transformers import AutoTokenizer\n",
    "\n",
    "tokenizer=AutoTokenizer.from_pretrained('t5-small')"
   ],
   "metadata": {
    "collapsed": false,
    "ExecuteTime": {
     "end_time": "2025-04-08T12:22:39.269725Z",
     "start_time": "2025-04-08T12:22:35.271246Z"
    }
   },
   "id": "28be32f04f512183",
   "execution_count": 5
  },
  {
   "cell_type": "code",
   "outputs": [],
   "source": [
    "def preprocess_function(dataset):\n",
    "  model_inputs=tokenizer(dataset['input'],truncation=False,max_length=64,padding='max_length')\n",
    "  labels=tokenizer(dataset['output'],truncation=False,max_length=64,padding='max_length')\n",
    "  model_inputs[\"labels\"] = labels[\"input_ids\"]\n",
    "  return model_inputs"
   ],
   "metadata": {
    "collapsed": false,
    "ExecuteTime": {
     "end_time": "2025-04-08T12:22:39.921236Z",
     "start_time": "2025-04-08T12:22:39.917477Z"
    }
   },
   "id": "58729feba3096cec",
   "execution_count": 6
  },
  {
   "cell_type": "code",
   "outputs": [
    {
     "data": {
      "text/plain": "Map:   0%|          | 0/1600 [00:00<?, ? examples/s]",
      "application/vnd.jupyter.widget-view+json": {
       "version_major": 2,
       "version_minor": 0,
       "model_id": "b26385b251c045f59ea3805d68b049cd"
      }
     },
     "metadata": {},
     "output_type": "display_data"
    },
    {
     "data": {
      "text/plain": "Map:   0%|          | 0/200 [00:00<?, ? examples/s]",
      "application/vnd.jupyter.widget-view+json": {
       "version_major": 2,
       "version_minor": 0,
       "model_id": "721a9ca6dab74689a828632a852cda5d"
      }
     },
     "metadata": {},
     "output_type": "display_data"
    },
    {
     "data": {
      "text/plain": "Map:   0%|          | 0/200 [00:00<?, ? examples/s]",
      "application/vnd.jupyter.widget-view+json": {
       "version_major": 2,
       "version_minor": 0,
       "model_id": "8eafd773af5249949783f75c4c87831e"
      }
     },
     "metadata": {},
     "output_type": "display_data"
    }
   ],
   "source": [
    "dataset_train=dataset['train'].map(preprocess_function,batched=True)\n",
    "dataset_validation=dataset['validation'].map(preprocess_function,batched=True)\n",
    "dataset_test=dataset['test'].map(preprocess_function,batched=True)"
   ],
   "metadata": {
    "collapsed": false,
    "ExecuteTime": {
     "end_time": "2025-04-08T12:22:41.337060Z",
     "start_time": "2025-04-08T12:22:41.012152Z"
    }
   },
   "id": "8cb8bdd41006bf23",
   "execution_count": 7
  },
  {
   "cell_type": "code",
   "outputs": [
    {
     "data": {
      "text/plain": "Dataset({\n    features: ['input', 'output', 'input_ids', 'attention_mask', 'labels'],\n    num_rows: 1600\n})"
     },
     "execution_count": 8,
     "metadata": {},
     "output_type": "execute_result"
    }
   ],
   "source": [
    "dataset_train"
   ],
   "metadata": {
    "collapsed": false,
    "ExecuteTime": {
     "end_time": "2025-04-08T12:22:42.401346Z",
     "start_time": "2025-04-08T12:22:42.397025Z"
    }
   },
   "id": "b6113fbef4e875ae",
   "execution_count": 8
  },
  {
   "cell_type": "code",
   "outputs": [
    {
     "data": {
      "text/plain": "{'input': 'Pause the door in the bedroom.',\n 'output': 'Pause(door)',\n 'input_ids': [22631,\n  8,\n  1365,\n  16,\n  8,\n  2923,\n  5,\n  1,\n  0,\n  0,\n  0,\n  0,\n  0,\n  0,\n  0,\n  0,\n  0,\n  0,\n  0,\n  0,\n  0,\n  0,\n  0,\n  0,\n  0,\n  0,\n  0,\n  0,\n  0,\n  0,\n  0,\n  0,\n  0,\n  0,\n  0,\n  0,\n  0,\n  0,\n  0,\n  0,\n  0,\n  0,\n  0,\n  0,\n  0,\n  0,\n  0,\n  0,\n  0,\n  0,\n  0,\n  0,\n  0,\n  0,\n  0,\n  0,\n  0,\n  0,\n  0,\n  0,\n  0,\n  0,\n  0,\n  0],\n 'attention_mask': [1,\n  1,\n  1,\n  1,\n  1,\n  1,\n  1,\n  1,\n  0,\n  0,\n  0,\n  0,\n  0,\n  0,\n  0,\n  0,\n  0,\n  0,\n  0,\n  0,\n  0,\n  0,\n  0,\n  0,\n  0,\n  0,\n  0,\n  0,\n  0,\n  0,\n  0,\n  0,\n  0,\n  0,\n  0,\n  0,\n  0,\n  0,\n  0,\n  0,\n  0,\n  0,\n  0,\n  0,\n  0,\n  0,\n  0,\n  0,\n  0,\n  0,\n  0,\n  0,\n  0,\n  0,\n  0,\n  0,\n  0,\n  0,\n  0,\n  0,\n  0,\n  0,\n  0,\n  0],\n 'labels': [22631,\n  599,\n  11968,\n  61,\n  1,\n  0,\n  0,\n  0,\n  0,\n  0,\n  0,\n  0,\n  0,\n  0,\n  0,\n  0,\n  0,\n  0,\n  0,\n  0,\n  0,\n  0,\n  0,\n  0,\n  0,\n  0,\n  0,\n  0,\n  0,\n  0,\n  0,\n  0,\n  0,\n  0,\n  0,\n  0,\n  0,\n  0,\n  0,\n  0,\n  0,\n  0,\n  0,\n  0,\n  0,\n  0,\n  0,\n  0,\n  0,\n  0,\n  0,\n  0,\n  0,\n  0,\n  0,\n  0,\n  0,\n  0,\n  0,\n  0,\n  0,\n  0,\n  0,\n  0]}"
     },
     "execution_count": 9,
     "metadata": {},
     "output_type": "execute_result"
    }
   ],
   "source": [
    "dataset_train[0]"
   ],
   "metadata": {
    "collapsed": false,
    "ExecuteTime": {
     "end_time": "2025-04-08T12:22:45.301581Z",
     "start_time": "2025-04-08T12:22:45.296607Z"
    }
   },
   "id": "d7a850728492521",
   "execution_count": 9
  },
  {
   "cell_type": "markdown",
   "source": [
    "## Training"
   ],
   "metadata": {
    "collapsed": false
   },
   "id": "478ce95b5bd20c83"
  },
  {
   "cell_type": "code",
   "outputs": [
    {
     "name": "stdout",
     "output_type": "stream",
     "text": [
      "WARNING:tensorflow:From C:\\Users\\Amirmahdi\\Desktop\\SLM_project\\.venv\\Lib\\site-packages\\tf_keras\\src\\losses.py:2976: The name tf.losses.sparse_softmax_cross_entropy is deprecated. Please use tf.compat.v1.losses.sparse_softmax_cross_entropy instead.\n"
     ]
    }
   ],
   "source": [
    "from transformers import TrainingArguments\n",
    "\n",
    "training_args = TrainingArguments(\n",
    "    output_dir='./results',\n",
    "    per_device_train_batch_size=8,\n",
    "    per_device_eval_batch_size=8,       # Evaluate at the end of each epoch\n",
    "    eval_strategy=\"epoch\",         # Evaluate at the end of each epoch\n",
    "    save_strategy=\"epoch\", \n",
    "    num_train_epochs=3,\n",
    "    logging_dir='./logs',\n",
    "    logging_steps=10,\n",
    "    load_best_model_at_end=True,\n",
    ")"
   ],
   "metadata": {
    "collapsed": false,
    "ExecuteTime": {
     "end_time": "2025-04-08T12:22:51.411577Z",
     "start_time": "2025-04-08T12:22:46.955371Z"
    }
   },
   "id": "e3533d690b7e62ca",
   "execution_count": 10
  },
  {
   "cell_type": "code",
   "outputs": [],
   "source": [
    "from transformers import AutoModelForSeq2SeqLM\n",
    "\n",
    "model = AutoModelForSeq2SeqLM.from_pretrained('t5-small')"
   ],
   "metadata": {
    "collapsed": false,
    "ExecuteTime": {
     "end_time": "2025-04-08T12:22:52.862619Z",
     "start_time": "2025-04-08T12:22:52.173156Z"
    }
   },
   "id": "cf2904a7651fd1d5",
   "execution_count": 11
  },
  {
   "cell_type": "code",
   "outputs": [
    {
     "name": "stderr",
     "output_type": "stream",
     "text": [
      "C:\\Users\\Amirmahdi\\AppData\\Local\\Temp\\ipykernel_13488\\3744167942.py:3: FutureWarning: `tokenizer` is deprecated and will be removed in version 5.0.0 for `Trainer.__init__`. Use `processing_class` instead.\n",
      "  trainer = Trainer(\n"
     ]
    }
   ],
   "source": [
    "from transformers import Trainer\n",
    "\n",
    "trainer = Trainer(\n",
    "    model=model,                       # The pre-trained model you want to fine-tune\n",
    "    args=training_args,                # Your training arguments\n",
    "    train_dataset=dataset_train,       # Your training set\n",
    "    eval_dataset=dataset_validation,   # Your validation set\n",
    "    tokenizer=tokenizer                # The tokenizer used\n",
    ")"
   ],
   "metadata": {
    "collapsed": false,
    "ExecuteTime": {
     "end_time": "2025-04-08T12:22:53.764782Z",
     "start_time": "2025-04-08T12:22:53.509526Z"
    }
   },
   "id": "8492aea042a927b3",
   "execution_count": 12
  },
  {
   "cell_type": "code",
   "outputs": [
    {
     "name": "stderr",
     "output_type": "stream",
     "text": [
      "Passing a tuple of `past_key_values` is deprecated and will be removed in Transformers v4.48.0. You should pass an instance of `EncoderDecoderCache` instead, e.g. `past_key_values=EncoderDecoderCache.from_legacy_cache(past_key_values)`.\n"
     ]
    },
    {
     "data": {
      "text/plain": "<IPython.core.display.HTML object>",
      "text/html": "\n    <div>\n      \n      <progress value='601' max='600' style='width:300px; height:20px; vertical-align: middle;'></progress>\n      [600/600 00:51, Epoch 3/3]\n    </div>\n    <table border=\"1\" class=\"dataframe\">\n  <thead>\n <tr style=\"text-align: left;\">\n      <th>Epoch</th>\n      <th>Training Loss</th>\n      <th>Validation Loss</th>\n    </tr>\n  </thead>\n  <tbody>\n    <tr>\n      <td>1</td>\n      <td>0.053300</td>\n      <td>0.007989</td>\n    </tr>\n    <tr>\n      <td>2</td>\n      <td>0.010500</td>\n      <td>0.000969</td>\n    </tr>\n    <tr>\n      <td>3</td>\n      <td>0.006500</td>\n      <td>0.000660</td>\n    </tr>\n  </tbody>\n</table><p>"
     },
     "metadata": {},
     "output_type": "display_data"
    },
    {
     "data": {
      "text/plain": "<IPython.core.display.HTML object>",
      "text/html": "\n    <div>\n      \n      <progress value='600' max='600' style='width:300px; height:20px; vertical-align: middle;'></progress>\n      [600/600 00:52, Epoch 3/3]\n    </div>\n    <table border=\"1\" class=\"dataframe\">\n  <thead>\n <tr style=\"text-align: left;\">\n      <th>Epoch</th>\n      <th>Training Loss</th>\n      <th>Validation Loss</th>\n    </tr>\n  </thead>\n  <tbody>\n    <tr>\n      <td>1</td>\n      <td>0.053300</td>\n      <td>0.007989</td>\n    </tr>\n    <tr>\n      <td>2</td>\n      <td>0.010500</td>\n      <td>0.000969</td>\n    </tr>\n    <tr>\n      <td>3</td>\n      <td>0.006500</td>\n      <td>0.000660</td>\n    </tr>\n  </tbody>\n</table><p>"
     },
     "metadata": {},
     "output_type": "display_data"
    },
    {
     "data": {
      "text/plain": "TrainOutput(global_step=600, training_loss=0.42256366528570655, metrics={'train_runtime': 53.1235, 'train_samples_per_second': 90.355, 'train_steps_per_second': 11.294, 'total_flos': 81205080883200.0, 'train_loss': 0.42256366528570655, 'epoch': 3.0})"
     },
     "execution_count": 13,
     "metadata": {},
     "output_type": "execute_result"
    }
   ],
   "source": [
    "trainer.train()"
   ],
   "metadata": {
    "collapsed": false,
    "ExecuteTime": {
     "end_time": "2025-04-08T12:23:48.035524Z",
     "start_time": "2025-04-08T12:22:54.756121Z"
    }
   },
   "id": "b0fb229fa534e5e5",
   "execution_count": 13
  },
  {
   "cell_type": "markdown",
   "source": [
    "## Evaluation metric 1 ( Exact matching )"
   ],
   "metadata": {
    "collapsed": false
   },
   "id": "90aa02400e0f444a"
  },
  {
   "cell_type": "code",
   "outputs": [],
   "source": [
    "import torch\n",
    "predictions = []\n",
    "references = []\n",
    "\n",
    "model.eval()\n",
    "for example in dataset_test:\n",
    "    input_ids = torch.tensor(example['input_ids']).unsqueeze(0).to(model.device)\n",
    "\n",
    "    with torch.no_grad():\n",
    "        output_ids = model.generate(input_ids, max_length=128)\n",
    "\n",
    "    pred = tokenizer.decode(output_ids[0], skip_special_tokens=True).strip()\n",
    "    label = tokenizer.decode(example['labels'], skip_special_tokens=True).strip()\n",
    "\n",
    "    predictions.append(pred)\n",
    "    references.append(label)\n"
   ],
   "metadata": {
    "collapsed": false,
    "ExecuteTime": {
     "end_time": "2025-04-08T12:28:02.672044Z",
     "start_time": "2025-04-08T12:27:44.767189Z"
    }
   },
   "id": "10d5c7c637fbc108",
   "execution_count": 14
  },
  {
   "cell_type": "code",
   "outputs": [],
   "source": [
    "from evaluate import load\n",
    "\n",
    "exact_match = load(\"exact_match\")\n",
    "em_result = exact_match.compute(predictions=predictions, references=references)"
   ],
   "metadata": {
    "collapsed": false,
    "ExecuteTime": {
     "end_time": "2025-04-08T12:28:06.519949Z",
     "start_time": "2025-04-08T12:28:04.830147Z"
    }
   },
   "id": "da7e0db19975b0bd",
   "execution_count": 15
  },
  {
   "cell_type": "code",
   "outputs": [
    {
     "data": {
      "text/plain": "{'exact_match': np.float64(1.0)}"
     },
     "execution_count": 16,
     "metadata": {},
     "output_type": "execute_result"
    }
   ],
   "source": [
    "em_result"
   ],
   "metadata": {
    "collapsed": false,
    "ExecuteTime": {
     "end_time": "2025-04-08T12:28:07.066565Z",
     "start_time": "2025-04-08T12:28:07.063179Z"
    }
   },
   "id": "71fd7c1ee18cf185",
   "execution_count": 16
  },
  {
   "cell_type": "markdown",
   "source": [
    "## Evaluation metric 2 ( Levenshtein similarity )"
   ],
   "metadata": {
    "collapsed": false
   },
   "id": "da406d0f6fb28401"
  },
  {
   "cell_type": "code",
   "outputs": [],
   "source": [
    "import editdistance\n",
    "\n",
    "def compute_levenshtein_similarity(predictions, references):\n",
    "    similarities = []\n",
    "    for pred, ref in zip(predictions, references):\n",
    "        pred = pred.strip()\n",
    "        ref = ref.strip()\n",
    "        dist = editdistance.eval(pred, ref)\n",
    "        max_len = max(len(pred), len(ref))\n",
    "        similarity = 1.0 - (dist / max_len) if max_len > 0 else 1.0\n",
    "        similarities.append(similarity)\n",
    "    avg_similarity = sum(similarities) / len(similarities)\n",
    "    return avg_similarity"
   ],
   "metadata": {
    "collapsed": false,
    "ExecuteTime": {
     "end_time": "2025-04-08T12:28:11.418384Z",
     "start_time": "2025-04-08T12:28:11.412400Z"
    }
   },
   "id": "316b60dd9b7f54ac",
   "execution_count": 17
  },
  {
   "cell_type": "code",
   "outputs": [
    {
     "data": {
      "text/plain": "1.0"
     },
     "execution_count": 18,
     "metadata": {},
     "output_type": "execute_result"
    }
   ],
   "source": [
    "ls_result=compute_levenshtein_similarity(predictions,references)\n",
    "ls_result"
   ],
   "metadata": {
    "collapsed": false,
    "ExecuteTime": {
     "end_time": "2025-04-08T12:28:12.062332Z",
     "start_time": "2025-04-08T12:28:12.057899Z"
    }
   },
   "id": "f9d0189b63b9dea6",
   "execution_count": 18
  },
  {
   "cell_type": "markdown",
   "source": [
    "# Both Evaluations Side by Side"
   ],
   "metadata": {
    "collapsed": false
   },
   "id": "fc504f97725e5e6"
  },
  {
   "cell_type": "code",
   "outputs": [
    {
     "data": {
      "text/plain": "                Model  Exact Match  Levenshtein Similarity\n0  t5-small-finetuned          1.0                     1.0",
      "text/html": "<div>\n<style scoped>\n    .dataframe tbody tr th:only-of-type {\n        vertical-align: middle;\n    }\n\n    .dataframe tbody tr th {\n        vertical-align: top;\n    }\n\n    .dataframe thead th {\n        text-align: right;\n    }\n</style>\n<table border=\"1\" class=\"dataframe\">\n  <thead>\n    <tr style=\"text-align: right;\">\n      <th></th>\n      <th>Model</th>\n      <th>Exact Match</th>\n      <th>Levenshtein Similarity</th>\n    </tr>\n  </thead>\n  <tbody>\n    <tr>\n      <th>0</th>\n      <td>t5-small-finetuned</td>\n      <td>1.0</td>\n      <td>1.0</td>\n    </tr>\n  </tbody>\n</table>\n</div>"
     },
     "execution_count": 19,
     "metadata": {},
     "output_type": "execute_result"
    }
   ],
   "source": [
    "import pandas as pd\n",
    "results={\n",
    "    \"Model\": \"t5-small-finetuned\",\n",
    "    \"Exact Match\": em_result,\n",
    "    \"Levenshtein Similarity\": ls_result\n",
    "}\n",
    "results=pd.DataFrame(results)\n",
    "results.reset_index(drop=True, inplace=True)\n",
    "results"
   ],
   "metadata": {
    "collapsed": false,
    "ExecuteTime": {
     "end_time": "2025-04-08T12:28:13.486923Z",
     "start_time": "2025-04-08T12:28:13.477949Z"
    }
   },
   "id": "b1eb4e1ff7bcfede",
   "execution_count": 19
  },
  {
   "cell_type": "code",
   "outputs": [],
   "source": [],
   "metadata": {
    "collapsed": false,
    "ExecuteTime": {
     "end_time": "2025-04-08T10:13:50.377290Z",
     "start_time": "2025-04-08T10:13:50.374875Z"
    }
   },
   "id": "6f53b9fa29a695f6",
   "execution_count": 19
  }
 ],
 "metadata": {
  "kernelspec": {
   "display_name": "Python 3",
   "language": "python",
   "name": "python3"
  },
  "language_info": {
   "codemirror_mode": {
    "name": "ipython",
    "version": 2
   },
   "file_extension": ".py",
   "mimetype": "text/x-python",
   "name": "python",
   "nbconvert_exporter": "python",
   "pygments_lexer": "ipython2",
   "version": "2.7.6"
  }
 },
 "nbformat": 4,
 "nbformat_minor": 5
}
